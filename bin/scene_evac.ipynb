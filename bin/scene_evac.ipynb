{
 "cells": [
  {
   "cell_type": "code",
   "execution_count": 1,
   "metadata": {
    "pycharm": {
     "name": "#%%\n"
    }
   },
   "outputs": [],
   "source": [
    "import pandas\n",
    "import pdb\n",
    "import numpy\n",
    "import logging\n",
    "\n",
    "\n",
    "\n",
    "from pandas import DataFrame as df\n",
    "from utils.pyconfig import PyConfig\n",
    "from data.steersim import get_base_path, steersimProcess\n",
    "from data.steersim_evac import SteersimEvacProcess\n"
   ]
  },
  {
   "cell_type": "code",
   "execution_count": 4,
   "metadata": {
    "pycharm": {
     "name": "#%%\n"
    },
    "scrolled": false
   },
   "outputs": [
    {
     "name": "stderr",
     "output_type": "stream",
     "text": [
      "INFO:root:Group 65 has 30 agents, they are: \n",
      "[5, 6, 9, 10, 13, 15, 19, 24, 25, 26, 30, 35, 36, 37, 38, 41, 44, 46, 47, 51, 56, 57, 58, 59, 61, 62, 64, 65, 68, 70]\n",
      "INFO:root:Group 1 has 30 agents, they are: \n",
      "[0, 1, 2, 5, 6, 10, 15, 18, 19, 20, 21, 22, 30, 31, 32, 34, 35, 36, 37, 38, 42, 44, 46, 47, 48, 61, 64, 65, 68, 70]\n",
      "INFO:root:Cannot find enough agents to form a group, try incrementally\n",
      "INFO:root:Cannot find enough agents to form a group, try incrementally\n",
      "INFO:root:Cannot find enough agents to form a group, try incrementally\n",
      "INFO:root:Group 39 has 30 agents, they are: \n",
      "[9, 13, 24, 25, 26, 37, 38, 39, 40, 41, 51, 52, 53, 54, 55, 56, 57, 58, 59, 61, 62, 64, 65, 66, 67, 68, 69, 70, 44, 15]\n",
      "INFO:root:Cannot find enough agents to form a group, try incrementally\n",
      "INFO:root:Cannot find enough agents to form a group, try incrementally\n",
      "INFO:root:Cannot find enough agents to form a group, try incrementally\n",
      "INFO:root:Cannot find enough agents to form a group, try incrementally\n",
      "INFO:root:Cannot find enough agents to form a group, try incrementally\n",
      "INFO:root:Cannot find enough agents to form a group, try incrementally\n",
      "INFO:root:Cannot find enough agents to form a group, try incrementally\n",
      "INFO:root:Cannot find enough agents to form a group, try incrementally\n",
      "INFO:root:Cannot find enough agents to form a group, try incrementally\n",
      "INFO:root:Cannot find enough agents to form a group, try incrementally\n",
      "INFO:root:Cannot find enough agents to form a group, try incrementally\n",
      "INFO:root:Cannot find enough agents to form a group, try incrementally\n",
      "INFO:root:Cannot find enough agents to form a group, try incrementally\n",
      "INFO:root:Cannot find enough agents to form a group, try incrementally\n",
      "INFO:root:Cannot find enough agents to form a group, try incrementally\n",
      "INFO:root:Group 63 has 30 agents, they are: \n",
      "[0, 2, 4, 7, 11, 16, 17, 18, 20, 23, 28, 33, 34, 45, 50, 60, 63, 72, 73, 74, 12, 71, 29, 27, 43, 3, 49, 8, 14, 22]\n"
     ]
    },
    {
     "data": {
      "text/plain": [
       "601"
      ]
     },
     "execution_count": 4,
     "metadata": {},
     "output_type": "execute_result"
    }
   ],
   "source": [
    "logging.basicConfig(level=logging.INFO)\n",
    "\n",
    "root_dir = r'/home/kaidong/RubymineProjects/ActiveLoop/storage/scene-evac-1-base-data/train-20fps'\n",
    "seq_name = 'Kaidong-Ubuntu-20230712-120319-29641'\n",
    "get_base_path(f\"{root_dir}/{seq_name}.bin\")\n",
    "cfg = PyConfig('steersim', 14, 13, 6, 4)\n",
    "cfg.set(\"agent_num\", 30)\n",
    "\n",
    "data = SteersimEvacProcess(root_dir, seq_name, cfg, None)\n",
    "data(30)['frame']\n"
   ]
  },
  {
   "cell_type": "code",
   "execution_count": 3,
   "metadata": {},
   "outputs": [
    {
     "ename": "RuntimeError",
     "evalue": "No active exception to reraise",
     "output_type": "error",
     "traceback": [
      "\u001B[0;31m---------------------------------------------------------------------------\u001B[0m",
      "\u001B[0;31mRuntimeError\u001B[0m                              Traceback (most recent call last)",
      "Cell \u001B[0;32mIn [3], line 1\u001B[0m\n\u001B[0;32m----> 1\u001B[0m \u001B[38;5;28;01mraise\u001B[39;00m\n",
      "\u001B[0;31mRuntimeError\u001B[0m: No active exception to reraise"
     ]
    }
   ],
   "source": [
    "raise"
   ]
  },
  {
   "cell_type": "code",
   "execution_count": null,
   "metadata": {},
   "outputs": [],
   "source": [
    "data.sub_dataset[0].get_max_total_frame()"
   ]
  },
  {
   "cell_type": "code",
   "execution_count": null,
   "metadata": {
    "pycharm": {
     "name": "#%%\n"
    }
   },
   "outputs": [],
   "source": [
    "data.get_agent_num()"
   ]
  },
  {
   "cell_type": "code",
   "execution_count": null,
   "metadata": {
    "pycharm": {
     "name": "#%%\n"
    }
   },
   "outputs": [],
   "source": [
    "d = pandas.DataFrame(data.gt[:, [0, 1, 15]], columns='nframe aid z'.split())\n",
    "d['nframe'] = d.nframe.astype(int)\n",
    "d['aid'] = d.aid.astype(int)\n",
    "d['origin_index'] = d.index\n",
    "\n",
    "clamp_max = d[d.z < 1].groupby('aid').nframe.max()\n",
    "merged = pandas.merge(d, clamp_max, on=\"aid\", suffixes=[\"\", \"_clamp\"])\n",
    "filtered = merged[merged.nframe > merged.nframe_clamp]\n",
    "\n",
    "gt = numpy.take(data.gt, filtered.origin_index, axis=0)"
   ]
  },
  {
   "cell_type": "code",
   "execution_count": null,
   "metadata": {
    "pycharm": {
     "name": "#%%\n"
    }
   },
   "outputs": [],
   "source": [
    "d = pandas.DataFrame(data.gt[:, [0, 1, 15]], columns='nframe aid z'.split())\n",
    "d['nframe'] = d.nframe.astype(int)\n",
    "d['aid'] = d.aid.astype(int)\n",
    "d['origin_index'] = d.index\n",
    "\n",
    "clamp_max = d[d.z < 1].groupby('aid').nframe.max()\n",
    "merged = pandas.merge(d, clamp_max, on=\"aid\", suffixes=[\"\", \"_clamp\"])\n",
    "filtered = merged[merged.nframe > merged.nframe_clamp]\n",
    "\n",
    "gt = numpy.take(data.gt, filtered.origin_index, axis=0)"
   ]
  },
  {
   "cell_type": "code",
   "execution_count": null,
   "metadata": {
    "pycharm": {
     "name": "#%%\n"
    }
   },
   "outputs": [],
   "source": [
    "numpy.all(gt[:, 15] > 1"
   ]
  },
  {
   "cell_type": "code",
   "execution_count": null,
   "metadata": {
    "pycharm": {
     "name": "#%%\n"
    }
   },
   "outputs": [],
   "source": [
    "d.iloc[460]"
   ]
  },
  {
   "cell_type": "code",
   "execution_count": null,
   "metadata": {
    "pycharm": {
     "name": "#%%\n"
    }
   },
   "outputs": [],
   "source": [
    "filtered.index.values"
   ]
  },
  {
   "cell_type": "code",
   "execution_count": null,
   "metadata": {
    "pycharm": {
     "name": "#%%\n"
    }
   },
   "outputs": [],
   "source": [
    "numpy.all(gt[:, 15] > 1"
   ]
  },
  {
   "cell_type": "code",
   "execution_count": null,
   "metadata": {
    "pycharm": {
     "name": "#%%\n"
    }
   },
   "outputs": [],
   "source": [
    "d.iloc[460]"
   ]
  },
  {
   "cell_type": "code",
   "execution_count": null,
   "metadata": {
    "pycharm": {
     "name": "#%%\n"
    }
   },
   "outputs": [],
   "source": [
    "filtered.index.values"
   ]
  },
  {
   "cell_type": "code",
   "execution_count": null,
   "metadata": {
    "pycharm": {
     "name": "#%%\n"
    }
   },
   "outputs": [],
   "source": [
    "\"\"\"\n",
    "Given a set of trajectory, find overall n-nearest agents for given agent\n",
    "Usage:\n",
    "  # get 6 nearest agents for agent id 51\n",
    "  AgentGrouping(data.gt).get_close_agents(51, 6)  \n",
    "\"\"\"\n",
    "class AgentGrouping:\n",
    "    def __init__(self, gt):\n",
    "        self._prepare(gt)\n",
    "        \n",
    "    @staticmethod\n",
    "    def _compute_ADE(d, a1, a2):\n",
    "        d1 = d[d.aid == a1]\n",
    "        d2 = d[d.aid == a2]\n",
    "        # get frames for both agents appears, align trajectory\n",
    "        # and put trajectory data in x1, z1 / x2, z2\n",
    "        dm = d1.merge(d2, on=\"nframe\", suffixes=[\"1\", \"2\"])\n",
    "        if dm.empty:\n",
    "            return numpy.Infinity\n",
    "        t1 = dm[['x1', 'z1']].values  # extract values\n",
    "        t2 = dm[['x2', 'z2']].values\n",
    "        return numpy.mean(numpy.linalg.norm(t1-t2, axis=1))\n",
    "    \n",
    "    def _prepare(self, gt):\n",
    "        # initialize dataframe used for pandas join\n",
    "        colidx = [0, 1, 13, 15]\n",
    "        cols = 'nframe aid x z'.split()\n",
    "        self.d = pandas.DataFrame(gt[:, colidx], columns=cols)\n",
    "        self.d['nframe'] = d.nframe.astype(int)\n",
    "        self.d['aid'] = d.aid.astype(int)\n",
    "        \n",
    "        # discard initialize area and select main area only \n",
    "        self.d = self.d[self.d.z > 1]\n",
    "        \n",
    "        # cache ADE matrix so it can be reused\n",
    "        nagents = self.d.aid.max() + 1\n",
    "        self.ADEm = ADEm = numpy.zeros([nagents, nagents])\n",
    "        # ADE matrix should be semmetric and main diagnonal should be 0s\n",
    "        meshX, meshY = numpy.tril_indices_from(ADEm, k=-1)\n",
    "        for x, y in zip(meshX, meshY):\n",
    "            ADEm[y, x] = ADEm[x, y] = self._compute_ADE(self.d, x, y)\n",
    "        \n",
    "            \n",
    "    def get_close_agents(self, target_idx, num_agent):\n",
    "        return numpy.argpartition(self.ADEm[target_idx], num_agent)[:num_agent] \n"
   ]
  },
  {
   "cell_type": "code",
   "execution_count": null,
   "metadata": {
    "pycharm": {
     "name": "#%%\n"
    }
   },
   "outputs": [],
   "source": [
    "data.gt[:, [0, 1, 13, 15]]"
   ]
  },
  {
   "cell_type": "code",
   "execution_count": null,
   "metadata": {
    "pycharm": {
     "name": "#%%\n"
    }
   },
   "outputs": [],
   "source": [
    "a = AgentGrouping(data.gt)"
   ]
  },
  {
   "cell_type": "code",
   "execution_count": null,
   "metadata": {
    "pycharm": {
     "name": "#%%\n"
    }
   },
   "outputs": [],
   "source": [
    "numpy.take_along_axis(a.ADEm[51], numpy.argpartition(a.ADEm[51], 71), axis=0)"
   ]
  },
  {
   "cell_type": "code",
   "execution_count": null,
   "metadata": {
    "pycharm": {
     "name": "#%%\n"
    }
   },
   "outputs": [],
   "source": [
    "a.ADEm[51, 0]"
   ]
  },
  {
   "cell_type": "code",
   "execution_count": null,
   "metadata": {
    "pycharm": {
     "name": "#%%\n"
    }
   },
   "outputs": [],
   "source": [
    "dg1 = di[di.aid.isin([ 1,  3,  2,  0, 16, 30])]\n",
    "dg1.plot.scatter('x','z',color=dg1.aid, cmap='rainbow')"
   ]
  },
  {
   "cell_type": "code",
   "execution_count": null,
   "metadata": {
    "pycharm": {
     "name": "#%%\n"
    }
   },
   "outputs": [],
   "source": [
    "data.gt[:, [0, 1, 13, 15]]"
   ]
  },
  {
   "cell_type": "code",
   "execution_count": null,
   "metadata": {
    "pycharm": {
     "name": "#%%\n"
    }
   },
   "outputs": [],
   "source": [
    "a = AgentGrouping(data.gt)"
   ]
  },
  {
   "cell_type": "code",
   "execution_count": null,
   "metadata": {
    "pycharm": {
     "name": "#%%\n"
    }
   },
   "outputs": [],
   "source": [
    "numpy.take_along_axis(a.ADEm[51], numpy.argpartition(a.ADEm[51], 71), axis=0)"
   ]
  },
  {
   "cell_type": "code",
   "execution_count": null,
   "metadata": {
    "pycharm": {
     "name": "#%%\n"
    }
   },
   "outputs": [],
   "source": [
    "a.ADEm[51, 0]"
   ]
  },
  {
   "cell_type": "code",
   "execution_count": null,
   "metadata": {
    "pycharm": {
     "name": "#%%\n"
    }
   },
   "outputs": [],
   "source": [
    "dg1 = di[di.aid.isin([ 1,  3,  2,  0, 16, 30])]\n",
    "dg1.plot.scatter('x','z',color=dg1.aid, cmap='rainbow')"
   ]
  },
  {
   "cell_type": "code",
   "execution_count": null,
   "metadata": {
    "pycharm": {
     "name": "#%%\n"
    }
   },
   "outputs": [],
   "source": []
  }
 ],
 "metadata": {
  "kernelspec": {
   "display_name": "Python 3 (ipykernel)",
   "language": "python",
   "name": "python3"
  },
  "language_info": {
   "codemirror_mode": {
    "name": "ipython",
    "version": 3
   },
   "file_extension": ".py",
   "mimetype": "text/x-python",
   "name": "python",
   "nbconvert_exporter": "python",
   "pygments_lexer": "ipython3",
   "version": "3.8.13"
  }
 },
 "nbformat": 4,
 "nbformat_minor": 1
}